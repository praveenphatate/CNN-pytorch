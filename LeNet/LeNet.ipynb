{
 "cells": [
  {
   "cell_type": "raw",
   "metadata": {},
   "source": []
  },
  {
   "cell_type": "raw",
   "metadata": {},
   "source": [
    "This programs implements a simple CNN, LeNet in PyTorch. First the input is given to Covolution --> MaxPool --> Covolution --> Flatten --> FullyConnected --> FullyConnected --> FullyConnected. Both the Filters used are of size = 5 and ReLu activation through out the program. This program has an accuracy of around 64% accuracy for 40 iterations with Adam optimization."
   ]
  },
  {
   "cell_type": "code",
   "execution_count": 136,
   "metadata": {},
   "outputs": [],
   "source": [
    "import torch\n",
    "import torchvision\n",
    "import torchvision.transforms as transforms\n",
    "import torch.nn as nn\n",
    "import torch.nn.functional as F\n",
    "import torch.optim as optim\n",
    "import matplotlib \n",
    "import matplotlib.pyplot as plt\n",
    "import numpy as np"
   ]
  },
  {
   "cell_type": "code",
   "execution_count": 147,
   "metadata": {},
   "outputs": [
    {
     "name": "stdout",
     "output_type": "stream",
     "text": [
      "Files already downloaded and verified\n",
      "Files already downloaded and verified\n"
     ]
    }
   ],
   "source": [
    "seed = 42\n",
    "np.random.seed(seed)\n",
    "torch.manual_seed(seed)\n",
    "transform = transforms.Compose(\n",
    "    [transforms.ToTensor(),\n",
    "     transforms.Normalize((0.5, 0.5, 0.5), (0.5, 0.5, 0.5))])\n",
    "\n",
    "trainset = torchvision.datasets.CIFAR10(root='./data', train=True,\n",
    "                                        download=True, transform=transform)\n",
    "trainloader = torch.utils.data.DataLoader(trainset, batch_size=256,\n",
    "                                          shuffle=True, num_workers=2)\n",
    "\n",
    "testset = torchvision.datasets.CIFAR10(root='./data', train=False,\n",
    "                                       download=True, transform=transform)\n",
    "testloader = torch.utils.data.DataLoader(testset, batch_size=256,\n",
    "                                         shuffle=False, num_workers=2)"
   ]
  },
  {
   "cell_type": "code",
   "execution_count": 148,
   "metadata": {},
   "outputs": [],
   "source": [
    "This programs implements a simple CNN, LeNet in PyTorch. First the input is given to Covolution"
    "class Net(nn.Module):\n",
    "    def __init__(self):\n",
    "        super(Net, self).__init__()\n",
    "        self.conv1 = nn.Conv2d(in_channels=3, out_channels=6, kernel_size=5)\n",
    "        self.pool = nn.MaxPool2d(kernel_size=2)\n",
    "        self.conv2 = nn.Conv2d(in_channels=6, out_channels=16, kernel_size=5)\n",
    "        \n",
    "        self.fc1 = nn.Linear(16 * 5 * 5, 120)\n",
    "        self.fc2 = nn.Linear(120, 84)\n",
    "        self.fc3 = nn.Linear(84, 10)\n",
    "        \n",
    "    def forward(self, x):\n",
    "        x = F.relu(self.conv1(x))\n",
    "        x = self.pool(x)\n",
    "        x = F.relu(self.conv2(x))\n",
    "        x = self.pool(x)\n",
    "        x = x.view(-1, 16 * 5 * 5)\n",
    "        x = (F.relu(self.fc1(x)))\n",
    "        \n",
    "        x = (F.relu(self.fc2(x)))\n",
    "        \n",
    "        x = self.fc3(x)\n",
    "        \n",
    "        return x\n",
    "\n",
    "\n",
    "net = Net()"
   ]
  },
  {
   "cell_type": "code",
   "execution_count": 149,
   "metadata": {},
   "outputs": [],
   "source": [
    "criterion = nn.CrossEntropyLoss()\n",
    "optimizer = optim.Adam(net.parameters(), lr=0.001, betas=(0.9,0.999), eps=1e-08, weight_decay=0.001) "
   ]
  },
  {
   "cell_type": "code",
   "execution_count": 150,
   "metadata": {},
   "outputs": [
    {
     "name": "stdout",
     "output_type": "stream",
     "text": [
      "Epoch 1  | Loss : 1.8049600312904435\n",
      "Epoch 2  | Loss : 1.5169445446559362\n",
      "Epoch 3  | Loss : 1.4121856890162643\n",
      "Epoch 4  | Loss : 1.3459213017200937\n",
      "Epoch 5  | Loss : 1.2816647552714056\n",
      "Epoch 6  | Loss : 1.2340928297870013\n",
      "Epoch 7  | Loss : 1.1915754992134717\n",
      "Epoch 8  | Loss : 1.151255376180824\n",
      "Epoch 9  | Loss : 1.1184100496525666\n",
      "Epoch 10  | Loss : 1.0893660957107738\n",
      "Epoch 11  | Loss : 1.063177497715366\n",
      "Epoch 12  | Loss : 1.0309136065901543\n",
      "Epoch 13  | Loss : 1.0158224659306663\n",
      "Epoch 14  | Loss : 0.9888467749162596\n",
      "Epoch 15  | Loss : 0.9636744592262774\n",
      "Epoch 16  | Loss : 0.9467184008384237\n",
      "Epoch 17  | Loss : 0.9276920192095698\n",
      "Epoch 18  | Loss : 0.9094586290267049\n",
      "Epoch 19  | Loss : 0.8865776740166605\n",
      "Epoch 20  | Loss : 0.8747076267490581\n",
      "Epoch 21  | Loss : 0.8594411140193745\n",
      "Epoch 22  | Loss : 0.840600853671833\n",
      "Epoch 23  | Loss : 0.8235218217786477\n",
      "Epoch 24  | Loss : 0.8123517994369779\n",
      "Epoch 25  | Loss : 0.7959951521182547\n",
      "Epoch 26  | Loss : 0.7888931063364963\n",
      "Epoch 27  | Loss : 0.7706097498232004\n",
      "Epoch 28  | Loss : 0.7551603235152303\n",
      "Epoch 29  | Loss : 0.7380034792788175\n",
      "Epoch 30  | Loss : 0.7308310890684322\n",
      "Epoch 31  | Loss : 0.7217987824459465\n",
      "Epoch 32  | Loss : 0.712650472412304\n",
      "Epoch 33  | Loss : 0.6979265948947595\n",
      "Epoch 34  | Loss : 0.6873812721091874\n",
      "Epoch 35  | Loss : 0.6763038872456064\n",
      "Epoch 36  | Loss : 0.6706302742264709\n",
      "Epoch 37  | Loss : 0.6629153760720272\n",
      "Epoch 38  | Loss : 0.6490982627990295\n",
      "Epoch 39  | Loss : 0.640237998141318\n",
      "Epoch 40  | Loss : 0.6352822316848502\n",
      "Finished Training\n"
     ]
    }
   ],
   "source": [
    "num_epochs = 40\n",
    "batch_size = 2000\n",
    "total_step = len(trainloader)\n",
    "Loss = []\n",
    "for epoch in range(num_epochs):  # loop over the dataset multiple times\n",
    "\n",
    "    running_loss = 0.0\n",
    "    for i, data in enumerate(trainloader, 0):\n",
    "        # get the inputs\n",
    "        inputs, labels = data\n",
    "\n",
    "        # zero the parameter gradients\n",
    "        optimizer.zero_grad()\n",
    "\n",
    "        # forward + backward + optimize\n",
    "        outputs = net(inputs)\n",
    "        loss = criterion(outputs, labels)\n",
    "        loss.backward()\n",
    "        optimizer.step()\n",
    "\n",
    "        # print statistics\n",
    "        running_loss += loss.item()\n",
    "        \n",
    "    print('Epoch {}  | Loss : {}'.format(epoch+1, running_loss / total_step))        \n",
    "    Loss.append(running_loss / total_step)\n",
    "print('Finished Training')"
   ]
  },
  {
   "cell_type": "code",
   "execution_count": 151,
   "metadata": {},
   "outputs": [
    {
     "name": "stdout",
     "output_type": "stream",
     "text": [
      "Accuracy of the network on the 10000 test images: 64 %\n"
     ]
    }
   ],
   "source": [
    "correct = 0\n",
    "total = 0\n",
    "\n",
    "with torch.no_grad():\n",
    "    for data in testloader:\n",
    "        images, labels = data\n",
    "        outputs = net(images)\n",
    "        _, predicted = torch.max(outputs.data, 1)\n",
    "        total += labels.size(0)\n",
    "        correct += (predicted == labels).sum().item()\n",
    "        \n",
    "print('Accuracy of the network on the 10000 test images: %d %%' % (\n",
    "    100 * correct / total))"
   ]
  },
  {
   "cell_type": "code",
   "execution_count": 152,
   "metadata": {},
   "outputs": [
    {
     "data": {
      "image/png": "iVBORw0KGgoAAAANSUhEUgAAAYgAAAEWCAYAAAB8LwAVAAAABHNCSVQICAgIfAhkiAAAAAlwSFlzAAALEgAACxIB0t1+/AAAADl0RVh0U29mdHdhcmUAbWF0cGxvdGxpYiB2ZXJzaW9uIDIuMi4yLCBodHRwOi8vbWF0cGxvdGxpYi5vcmcvhp/UCwAAIABJREFUeJzt3XecFPX9x/HXBzgp0hSwgYgIViwxJ2o0sStqbJHEhhEVjSXRFI01GHs0miiWRCWK/ozYC5aosZcgeigIiCii4okKijSxUD6/Pz5z3rLsHXfH7c3u3vv5eMzjdmdmZz87tzufme/3O9+vuTsiIiLZWqQdgIiIFCYlCBERyUkJQkREclKCEBGRnJQgREQkJyUIERHJSQkCMLNLzey3aceRb2Y2zMyGpB1HKTGzIWb2XD1f81cz+3WeQmoQM+ttZgvSjkPAzH5mZrenHQcoQWBm3YBfAjdkzOtoZleZ2XQzW2BmU5PnXZPlH5jZ7snjwWa2JFmvaro26z0uMjM3s62z5g/JeO1cM3vDzPZeQbyHmdloM1toZk/lWL61mb2eLH/NzLbIWHw5MNTMWtWw7T5mVrQ3xpjZ7ma2NOt/scDMtkk7tipmthZwGDA8eb67mX2QalCAu09z9/ZpxwHpfg/NbE8zm5L8fp4xs561rLu+mT2frDvZzHbJWn66mX2a/LaHm9kqGcsuMbOJZrbYzM7N2vQDwA/NbLPG/XT11+wTBDAYeMzdvwZI/olPA5sBA4COwI+AL4D+NWxjtLu3z5i+Pzs0MwOOBGYDR+V47YvJD3M14qBxt5l1qCXeL4C/AX/NXmBmrYGHgFuS7Y0EHjSzMgB3rwTeA35ay/aL3fSs/0V7d38t7aAyHA087O7fNNUbmlkLMyuY37qZtUw7hlzMbE3gXuAsoAswDrijlpfcDYwBVgfOA+43sy7JtvYF/gDsAqwPbAQMzXjtO8BpwOPZG/W4e/lO4LiV+0SNwN2b9QQ8AwzKeD4E+AxoX8trPgB2Tx4PBl6qZd1dga+IJDELKMt6r+cynncEHPhBHeI+AXgqa94+xAGy6rkBH1fFmsw7D7iphm32Ifl+5ljWBhgGfJJs82/AKsmyNYDHgDlEInwh43VnAzOAecDbwM45tr1jss0WGfN+DryePN4OeD3ZxmfAX2uIcXfgg1r22UvAxUAFMJc4U1stY/mBwKTkczwDbJSxbD3gweR/+Dlwdcb/8Hng78nrpgF71hLDC8ChdYk52ed/Az5KPvf1QJtkWZdkn88CvgQeBrpnfdYLgdHA10CvZN75wP+A+cTBafVc//va1k2WHw1MT/bF2UBlrv9tsu7twHXJNr4Cdgb2Jw7A85Pt/Clj/RnE72BBMm2Tsa/fTj7vf4B1G/lYcFLWd7cj8C3QJ8e6myb7ddWMeaOBIcnju4ELMpbtBVTm2M6dwLk55u8EvNuYn68hU8GcVaRoc2BKxvPdgcfdvbHKY48izurvBloBOYuQkmKfo4HviANCQ2wGjK964vFNm5DMrzIZ2LIB2x4KlANbAD8AdiDOtABOJw6M3YC1gD8BJJfIvwK2dveOxGefnmPbLwOLiB9FlcOpPnu7hkgKHYkD2b0NiL/KL5NpHSKB/j2JdRPiQPab5HM8BTxsZmXJ/+ZRYCpxoF2X+H9W+RGxn7sk2/tXLe+f/X2rzRXE2ecWQN/kvc9JlrUAbgJ6EslrEXB11uuPBI4hDnSVybzDie/kmsCqwO9ref+c65rZ5sTJwqFAd6r/77U5nEg4HYgD6QJgENAJ2A841cyqrmx/AuAZV4BmNpD4nh2QvN8Yaji7N7OWZjanlum0GmLM/v3MA95n2d9P5rpT3f2rjHnjM9ZdZlvJ4+5m1qmG9842GehjZu3quH5eKEFAZ+IspkoX4iy5PrbL+gJuB2BmqwIHA3e4+7fA/SxfzLSjmc0hzkYuBQ53988b8kGA9sSZcaa5xI+yynziM9fXEcCf3X2Wu88ELiAOQBAHp3WAnu7+nbs/n8xfTJwFb2Zmrdz9fXeflr3hJJHdSZTNY2adiTOuOzO239fMurj7fHcfU0ucPXMcEFpnLL/V3d9KfthDgUOTYsBDgVHu/oy7LwL+QhxYtwW2B7oCZ7j7V+7+tbu/nLHN99z9ZndfAtwK9Kiqr8qhE8t+33JKioSGAL919y+Tg9WlSZwk/4cHkljmAZewbIIFuNndJ7v7IndfnMz7l7u/6+4LgXuArWoJo6Z1fw486O7/S77X2WXouTzg7qPdfam7f5vs54nJ8/HE/zo7/ky/Ai5x9ynJZ7kI6G9m3bNXdPcl7t65lumKGt6jLr+fuq6bvbzqcW3Fx5mqviMN+a02GiWIuFzN/Kd9Aaxdz228kvUFfCWZPxD4Bngief5v4KdmtnrGa19y985EOeZjRHELAEnFVlVF6x/rEMcC4qCWqSPLHpA6EEUh9bU28GHG8w+Js0eIg+mHwNNm9p6ZnQ7g7lOIctgLgJlmNjKppM3lDuDgpL7kYGCMR50JxJXVpsAUM3vVzPapJc7pOQ4I32Ysz7w6+xBoTez7dTI/n7svJc66uxNXDB8kCSCXTzMeL0z+1lThO4e6HSTWSmIbX5XogEeI4jzMbNXk+zHdzOYRRWLZSSnXlWh2rLVVTNe07jqZ206S7Zcr+DzLxGJm25vZc2Y2y8zmEsmwpqQKcZV0Xca++BxYCvRYwfvWR11+P3VdN3t5x4z5dVH1HWnIb7XRKEHAm8CGGc+fAvZKzv5X1lHEF+MjM/uUqDReheQsMJO7zwdOBI6tannk7kMyLrMvr8P7TSKj+Cg5M948mV9lE5a99K2rT4gfaZWeRL0B7j7P3X/n7r2IcvwzzGynZNnt7r4DUVTSkjgLXo67v5m8x14sW7xEctZ4KHFwvBK4z8zaNOAzQBzsMz/Dt0S9yYzMz5ecwfdIPuNHwHqNVLma/X2ryWdEceNGGYmuk7tXFVH8kdin/ZOit11zbCNfLYE+IePAnPxWVlvBa7JjuRO4j6hH6EQ00LAa1oX4Hxyblfjb5rqaTIqYsluyZU41nWxl/346EPt4Ug3rZhcBbZmx7jLbSh5/7O51PeBvQhRhLVzhmnmkBBFn7ZmXtv9HfBnvM7ONkxYgXczs7BWcuS4jaR63M1HuvlUybUkc4HK1ZsLdZwE3k5Th17DdlsnBsRXQwszaWHWz1WeAlmZ2clKscipRPPN8xiZ2Iir4aou9TdbUgkhuQ82sq0XT4D8RZfaY2X5mtkGSkOYCS4AlZraJme2SxPJ1MtV0Fk7yHr8jinS+r2cwsyPNrGtyVj+XOIAsre0z1OKXyf91VaJM/O6kiOtuYH8z2zm5ijmdOBscQ5SZfwFcYmbtzKytme3QwPfP/r5B5PJl9jnx+YYDV5lZNws9zGzP5DUdiLP6Ly1azgyl6dwDHGhm21m0+rugAdvoAMx292+SItnMk6aZgJtZ74x5/wTOsagrwsw6W9RLLCcpYspuyZY51XSydR+wlZkdmPwPzgMq3H1qjvd4i0gCQ5P/2UDioP5AssptwHHJd211ohhuRNXrLeq22hDH4FYZv7MqK/ydNomaaq+by0Rc1lYCbTPmdQKuIhLFAqJp6N+ALsnyD1hBKybiCzEmx/x1ibL5jclqxZQsX484q92shniHEAfIzGl4xvIfAm8QB+MKYIuMZd2Tz1RWw7b75Ni2E4muLdES5ZNkugponbzuNKJ45qtk+2cn87cCXiMOtLOBUcBatfwv1k/e76Gs+SOJ1jrzgYnAfjW8fnfiwLogazowWZ7Zimke0Xggs2XOwUTl4BzgWWCTjGW9kvi/SGL5e8b/47mM9Voln6FXDTGumeyj1hkx59rnvYj6m78QFaXzgLeAk5PX9SBaRC0gKr1PZPlWSIOz3nuZeZmxk7sVU851k+fHJp+jqhXTZ8D2NXzm24n6q8x5hxANFuYn+/V6YETG8ouT/TwHKM/4rU1M9sV0amiNt5LHg72IJqhfEydcPTOWDQeuzXjemzj5+jr53uyata3TiWQ3j2i4sErWPsn+nw9Kllnyv+7X2J+vvpMlATVrZnYJMNPdr0o7lnwys6uBSe5+Y9qxpMHMXiKS6YiU47icqCu5doUrFwEz60gcyNdz94a2wJOEmR0E/NzdD089FiUIaS4KJUGUAjPbn6iva0E07f2Bu5enG5U0NtVBiEhDHERU7FcSxWGHpRqN5IWuIEREJCddQYiISE45e/UsZF27dvVevXqlHYaISFEZO3bs5+7erT6vKboE0atXLyoqKtIOQ0SkqJjZhytea1kqYhIRkZyUIEREJCclCBERyUkJQkREclKCEBGRnJQgREQkp7wlCDO72cxmmtnEGpZ3MrOHzWy8mU0ys6PzFYuIiNRfPq8gRgADall+MvCWu29JdCd9ZdK3vIiIFIC8JQh3f4EYA6DGVYAOySAz7ZN1F9eyfpg8Gb77rlFiFBGRmqVZB3EtMQLTDGACcKrHiGHLMbPjzazCzCpYuBDeeacp4xQRaZbSTBB7AeOIAdC3Aq5NBh5Zjrvf6O7l3/c3P2FCkwUpItJcpZkgjgbu9zCVGFZx4zq9cmLOem8REWlEaSaI6cBuAGa2JrARMG2Fr2rTRglCRKQJ5K03VzMbSbRO6mpmlcB5QBmAu/8TuBAYYWYTiEG6z3D3z1e44U6doE+ffIUtIiKJohtRrry83NXdt4hI/ZjZ2PqOG168d1IvzdngSUREGknxJYhFi2CNNeDWW9OORESkpBVfgigrgwULVFEtIpJnxZcgADbdVAlCRCTPijNB9OunBCEikmfFmyBmzIDZtXX1JCIiK6M4E8TOO8Npp8HiFfftJyIiDZO3G+Xyqrw8JhERyZvivIIA+PprqKxMOwoRkZJVnFcQAHvuCS1awPPPpx2JiEhJKt4riM02i5ZMRdZViIhIsSjeBNGvX7Ri+vTTtCMRESlJxZ0gQPdDiIjkSfEmiM02i79KECIieVG8ldTdusG118JOO6UdiYhISSreBAFw8slpRyAiUrKKt4gJYOZMeOQRjQ0hIpIHxZ0gRo2C/faDDz9MOxIRkZJT3AlCLZlERPKmuBPEppvGXyUIEZFGV9wJomNHWG89JQgRkTwo7gQBUcw0YULaUYiIlJzibuYKcOmlMU61iIg0quJPEJtvnnYEIiIlqfiLmBYuhBtugNdfTzsSEZGSkrcEYWY3m9lMM6uxBtnMdjazcWY2ycwaNrBDixZw0knw0EMNjlVERJaXzyuIEcCAmhaaWWfgemB/d98M+HmD3qVNG+jbVxXVIiKNLG8Jwt1fAGbXssrhwP3uPj1Zf2aD36xfPzV1FRFpZGnWQWwIrGZmz5nZWDP7ZU0rmtnxZlZhZhWzZs1afoV+/WDq1BinWkREGkWaCaIV8ENgX2Av4E9mtmGuFd39Rncvd/fybt26Lb9Cv34x9Og77+QzXhGRZiXNZq6VwOfu/hXwlZm9AGwJ1P8ov88+8OWX0LlzI4coItJ8pXkF8RDwYzNrZWbtgG2ByQ3aUrt2Sg4iIo0sb1cQZjYS2BnoamaVwHlAGYC7/9PdJ5vZ48CbwFJguLs3vKb5hhtg1iw499yVjl1ERMDcPe0Y6qW8vNwrKiqWXzBoELzwAkyf3vRBiYgUODMb6+7l9XlN8d9JXaVfP/joI5g7N+1IRERKQmklCIBJk9KNQ0SkRJRegtANcyIijaJ0EkTPnrD22jBvXtqRiIiUhOLv7rtKixbw8cdglnYkIiIloXSuIEDJQUSkEZVWgnjySejfH2Y2vN8/EREJpZUgWrSA116DcePSjkREpOiVVoLYdtvocuOGG9KORESk6JVWgujQAU4+GR54AN5+O+1oRESKWmklCIBTT41R5i67LO1IRESKWuk0c63SrRtccUUMQyoiIg1WegkC4KST0o5ARKTolV4RU5XPPoM//jG6ABcRkXor3QQxe3YUNQ0blnYkIiJFqXQTxCabwIEHwrXXqn8mEZEGKN0EAXDWWTBnju6LEBFpgNJOENtsA7vtBn/7G3zzTdrRiIgUldJOEADnnAM776xiJhGReirNZq6ZdtklJhERqZfSv4KoMmECvPxy2lGIiBSN0r+CAHCHQw+Fli1h/HiNGyEiUgfN4wrCLG6amzABHnss7WhERIpC80gQAIcfHuNWX3pp2pGIiBSF5pMgysrgtNOiHuLFF9OORkSk4OUtQZjZzWY208wmrmC9bcxsiZkNzFcs3zv2WOjRAz79NO9vJSJS7PJZST0CuBa4raYVzKwlcBnwRB7jqNauHbz1VgwsJCIitcrbFYS7vwDMXsFqvwHuA2bmK47lVCWHe++Fxx9vsrcVESk2qdVBmFl34CDgn3VY93gzqzCzilmN0X334sVw0UUwaBBUVq789kRESlCaldRXAWe4+5IVrejuN7p7ubuXd+vWbeXfuVUruOuu6J/psMMiYYiIyDLSTBDlwJ1m9gEwELjezA5ssnffaKPo5fWll2Do0CZ7WxGRYpFagnD39d29l7v3Au4FTnL3B5s0iCOOgCFD4t6IibU2thIRaXby1orJzEYCOwNdzawSOA8oA3D3FdY7NJlhw2DvvaFfv7QjEREpKHlLEO5+WD3WHZyvOFaobVv42c/i8ZQpsMEGUUchItLMNZ87qVdk2jTYais4//y0IxERKQhKEFV6944WTRdfDE89lXY0IiKpU4LIdM01sMkmUXk9Y0ba0YiIpEoJItOqq8I998BXX8Ehh8CiRWlHJCKSGtXGZtt0U7jpJqioSDsSEZFUKUHkcthhMQEsXQotdKElIs2Pjny1eeMN2GILeOedtCMREWlyShC16do1xo44+OColxARaUaUIGqz7rowciRMmgQnnADuaUckItJklCBWZI894ua522+Pzv1ERJoJJYi6OOec6K/pscd0FSEizYZaMdVFixYxfkS7dmCWdjQiIk1CVxB11aEDtGwZd1iffXY0fxURKWFKEPX1n//E+BGnnKIkISIlTUVM9XXMMfD223DFFTFk6Q03xJWFiEiJUYKoLzO4/PIYR+LCC+Hrr+HWWzWGhIiUnDod1cxsA6DS3b81s52BLYDb3H1OPoMrWGZwwQVRaX3bbTBvHqy+etpRiYg0qrrWQdwHLDGzPsC/gPWBO/IWVbE488zo1G/11eG77+JqQkSkRNQ1QSx198XAQcBV7v47YO38hVVE2rWLeyOOPBL23RcWLEg7IhGRRlHXBLHIzA4DjgIeSeaV5SekImQG++0HL7wAAwbA3LlpRyQistLqmiCOBrYHLnb3981sfeD2/IVVhAYNipvpxoyB3XeH2bPTjkhEZKXUKUG4+1vufoq7jzSz1YAO7v6XPMdWfA4+GB58ECZMgIMOUrccIlLU6tqK6Tlg/2T9ccAsM3ve3X+fx9iK0777xs10rVqpWw4RKWp1LWLq5O7zgJ8Bt7j7D4Hd8xdWkdtlF/jxj+Px5ZfD/fenG4+ISAPUNUG0MrO1gV9QXUldKzO72cxmmtnEGpYfYWZvJtP/zGzLOsZSPBYtiiKngQPjzmsVOYlIEalrgrgAeAJ4z91fM7PewLsreM0IYEAty98HdnL3LYALgRvrGEvxKCuDp5+OBHH66XDiibB4cdpRiYjUSZ3qINz9HuCejOfTgINX8JoXzKxXLcv/l/H0FaBHXWIpOm3bwp13Qp8+0clfZSU8/LDqJ0Sk4NW1kroHcA2wA+DAS8Cp7l7ZSHEcC/ynlvc/HjgeoGfPno30lk2oRQu45BLYYIPoAVbJQUSKQF17mLuF6Frj58nzQcm8PVY2ADPbhUgQO9a0jrvfSFIEVV5eXrwF+cceW/340UehSxfYbrv04hERqUVd6yC6ufst7r44mUYA3Vb2zc1sC2A4cIC7f7Gy2ysaS5ZEP0477RQ9wYqIFKC6JojPzWyQmbVMpkHASh3QzawncD9wpLu/szLbKjotW8Jzz8GOO8LgwfC736nyWkQKTl0TxDFEE9dPgU+AgUT3GzUys5HAaGAjM6s0s2PN7AQzOyFZZSjQBbjezMaZWUWDPkGx6tIFnngiRqa76irYe2/49tu0oxIR+V5dWzFNJ+6k/p6Z/Ra4qpbXHLaCbQ4BhtTl/UtWq1Zw9dWw5ZbRPUfr1mlHJCLyvZUZBu331JIgpB6OOab68fjx8MEHcMABqYUjIgJ1L2LKRW018+Gii+DAA2M4U915LSIpWpkEoaNXPtx2W3QdPnRodPxX2Vi3moiI1E+tCcLM5pvZvBzTfGCdJoqxeWnbNpLEtdfC88/DZpvBm2+mHZWINEO11kG4e4emCkQymMHJJ8fodFdfHUkCoilsq5WpNhIRqbuVKWKSfNtgAxg2LO6bmDULNt4YbrpJdRMi0iSUIIrFd9/BeuvB8cfDnnvChx+mHZGIlDgliGLRvTv897/wj3/AK69Av35w/fW6mhCRvFGCKCYtWsAJJ8DEidHJ39NPq2dYEckbJYhitN568OST1R39TZkCRx4JH3+cblwiUlKUIIqVGbRvH48rKuCee2CjjeAvf1GfTiLSKJQgSsERR8Bbb8Eee8BZZ0Wz2EcfTTsqESlyShClondveOCB6CG2rAyefTbtiESkyClBlJo994w7ry+4IJ7/97/wy1/C+++nG5eIFB0liFJUVgbt2sXjqVOr6yd+8xv47LN0YxORoqEEUepOPDGSxNFHxz0UvXvDlVemHZWIFAEliOage3e44QaYPBn23z86BITo2+nrr9ONTUQKlhJEc9K3L4wcCSedFM9vuSXuyFaFtojkoATRnG28cdydveuu8Ktfwdy5aUckIgVECaI5+/GPY4jT006D4cNh002j1ZOICEoQ0q4d/PWv0QFgly7q/E9EvqfRZyRssw288UaMPQGRNNZdFw45RB0CijRTuoKQalXJYfFiePBBOOww2Htv+Pe/YfbsdGMTkSanBCHLa9UKXngBrrgCxo2DQYNgjTWqe49VMZRIs6AEIbm1bAl/+APMmBH1E2eeCf37x7IHH4wOAc86C0aPVsIQKVF5SxBmdrOZzTSziTUsNzMbZmZTzexNM9s6X7HISmjRArbdFi66CDbZJOa1bw9rrx1XGD/6UUwvvphunCLS6PJ5BTECGFDL8r2Bvsl0PPCPPMYijWmPPeCpp2DWrLhDe/p0GDw46i5EpGTkLUG4+wtAbTWbBwC3eXgF6Gxma+crHsmDzp3h+OPh3Xdh1Kiou/j667ivYsaMtKMTkZWUZh1Ed+CjjOeVybzlmNnxZlZhZhWzZs1qkuCkHtq1izoJgJdfhmHDoE8fOPdcmDcv3dhEpMHSTBC5GtfnrO109xvdvdzdy7t165bnsGSl7L47vP02HHAAXHwxbLABXH01LFmSdmQiUk9pJohKYN2M5z0AlUuUgt69o1PA116DzTeH++6Lym5QiyeRIpJmghgF/DJpzbQdMNfdP0kxHmls5eXwzDPwyCNxN/Ynn0R/TzfdBIsWpR2diKxAPpu5jgRGAxuZWaWZHWtmJ5jZCckqjwHTgKnATcBJ+YpFUtaxY/ydPRs6dYqK7Y02iu7G1fJJpGCZF9klf3l5uVdUVKQdhjSUOzz+OAwdChUVsOGG0QdU1RCpIpIXZjbW3cvr8xrdSS1Nyyz6d3r1VXjoITj00OrkcP750Vz222/TjVFEAF1BSKGYPz9aPM2aFcVQBx0UPcnuthuUlaUdnUjR0xWEFK8OHeDjj+E//4nkcP/9caUxfHgsX7xYLaBEmpgShBSOsjIYMCAqr2fOjCKogQNj2a23xhCpl10WraFEJO+UIKQwtW4N++8PVTdGrrMOrLlm9Cq77rqx7MEHdVUhkkdKEFIc9t47xqiYMgVOPz1aQF18cfVod59+mm58IiVICUKKy4YbwqWXRg+y998f8+bOhfXXj2FTr7kmKrpFZKUpQUhxatUqipoguvG49NKoyD7llCiOOvBAmDAh3RhFipwShBS/Dh3gt7+NG+7Gj4/HY8ZEEoFIFGPGqL5CpJ6UIKS0bLEF/PWvUFlZPQLeZZfBdtvB9ttHsZR6lhWpEyUIKU0tW1Y/vv56uO66qJs4+ODoMPCOO9KLTaRIKEFI6evYEU46Cd55B+66K8bUnjIlli1dCnPmpBufSIFSgpDmo2VL+MUvoonsOefEvFGjorL7tNOirmLp0nRjFCkgShDS/JjBKqvE4w03jJvurroq6i+6dYvR8BYuTDdGkQKgBCHN26abwr//DR98ACNGRD9Q8+dX9zA7ZEgMo3r++XGjnsavkGZECUIEoEcPOOqo6BzwmWeq5/fsCV98EQlip52iu4+zz04vTpEmpAQhUpuhQ+P+itmz4d574ac/hbZtY9nixfDzn8MNN6gDQSlJGg9CpKGmTYM99oi/AP37wxFHwKBBsPrq6cYmkkXjQYg0pd69YerUaP100UWwaBGceiqMGxfL581TnYUUNSUIkZVhBv36RbPZ11+HN9+EnXeOZX/+M6y3Hpx1VtyDIVJklCBEGtPmm0fngRDFT1tvDZdfDhttBDvsALffnm58IvWgBCGSL3vvDQ8/HP1CXXZZVHQ/9VQsc49+oebPTzdGkVqoklqkqbjHDXirrhpFUVtuCW3aRMuoQw+FffapbiEl0shUSS1SyMwiOUDUW7z8Mhx3HLz4Yoy9vcYaMHp0LF+4UL3OSuqUIETS0KIF/OhHMGxYFEE99RQcfnh09wFwxRWw2mqw555w3nnwxBPqVFCaXKt8btzMBgBXAy2B4e7+l6zlPYFbgc7JOme6+2P5jEmk4LRqBbvtFlOVH/8YPvsM/ve/aEK7dGlcfcydG50OzpwZ/UZVjcktkgd5SxBm1hK4DtgDqAReM7NR7v5WxmrnAne7+z/MbFPgMaBXvmISKRq77BITREX2q6/CRx9Vj3Ox997RBcjAgTFtu62ShTS6fBYx9Qemuvs0d/8OuBM4IGsdBzomjzsBM/IYj0hx6tAhri4GD47n7jH2dr9+UUS1/fZxv8Xw4amGKaUnn0VM3YGPMp5XAttmrfNn4Ekz+w2wKrB7rg2Z2fHA8QA9e/Zs9EBFiopZdCx41FFRL/Hww9FPVOvWsfztt6PLjz59oG/f6mnzzSPZiNRRPhNEruvd7Da1hwFOyz+QAAAL7UlEQVQj3P1KM9se+D8z6+fuy4za4u43AjdCNHPNS7QixahzZzjyyJiqLFoU9RNjx8J991W3hho1CvbbL0bTGzUqksg666QTtxSFfBYxVQLrZjzvwfJFSMcCdwO4+2igDdA1jzGJlL7NN4fHH49+ohYujITw6KNRFAXw5JPwxz/GSHoDBsT43BogSXLIZ4J4DehrZuub2SrAocCorHWmA7sBmNkmRIKYlceYRJqXVVaJUfP22Qe6Judev/lNJI2zz4bJk+NKonfvuPIQyZC3BOHui4FfA08Ak4nWSpPM7AIz2z9Z7Q/AcWY2HhgJDPZiu7VbpBhtuCFceCG8/z48+yxccAGUlcWygQPhzDPhlVc0Rnczp642RKTawoUx7Oozz0RX5WutFWN0H3cc/PCHaUcnK0FdbYjIymnXLu7anjkzep7dccf4O2FCLP/kExg5Mm7Yk5KX1zupRaRIrbZa1E0ccQR8803cewHw0ENw4olRt7HPPtHJ4H77RWKRkqMEISK1a9Om+vFxx0UrqXvvhbvuggcfjHsrKiuhY8eatyFFSQlCROquZcsY+GiHHaJDwRdfhIqK6uRwxBHRZfkhh0SdhcbmLmqqgxCRhmnZMoZXPe20eO4ed3PfdVf0QtulSzStPffc6tfcd1/cwDdvXiohS/3oCkJEGocZ3HwzXHttNJ2dPBnefRc22CCWz5kTTWirrLNODJp04olRj7F0aUytdFgqFPpPiEjjatcO9t03pkzt28dIeu++G9OkSTB+fAzFCvDWW7DNNrDZZjEuxpZbxlReHq+VJqcEISJNo1WrqODefPPcy1ddFU4+OZLIo4/CLbfE/EcfjRZTb7wR43hvtVUkjt69Y+AlyRslCBEpDOuvHxXfVT79NK4wtk06gR47Fi65pPru7g4dYKed4IYb1OlgnihBiEhhWmutmKoMGRKtpKqKpsaOjXG9q/qYuv76SCo//WkUS+nqYqWpqw0RKQ1HHw233RZXGGuuGcVSBx+8fF1IM6WuNkSk+brlluouQnbZJeorRoyoXj54cHRK+MQT1RXjUitdQYhIaVq0KPqM6toVFiyIuozJk6u7DenbN7o8Hzy4WTSxbcgVROnuDRFp3srKqusn2rePuou5c6Pu4tVXYcyY6jvAJ02KAZX694+/228P221X/fpmSglCRJqPTp1g111jytS2LRxzDIweDZddVj1M69NPx7pjx8bjddeNqWfPaDlVwlccoAQhIgJ9+sCwYfF44cLoX2r0aPjBD2LeSy/BGWcs+5oWLWDaNFhvvUgeb7wBG28cU69eJZE8iv8TiIg0pnbt4Cc/ianKqafGFcZHH1VP06dXN8N9/PFl7+GoGur19dejqGvGjOibqnXrpv0sK0mV1CIijWH27Bjr++23Y5o1K/qmgrg349lno3XVXnvBgAFx1WLWZOGpklpEJC2rr15dwZ3tlFPiTvHHH4+uQwB+9rPo3RaiI8POnZsu1jpSghARybc994wJ4L334l6MqrEyvvkmWkutuWZ0Ulg17bhj1G+kSAlCRKQpbbABnHRS9fNFi6Ll1JtvxvTMM/Ddd3DllfD738PHH8Mf/gDdu8Paa0frqXXWiSSS5wGZlCBERNLUoUMkgCqLFsE771Qf/D/+OJrZPvxwtLCqct99UUz13HPx+JprGj00JQgRkUJSVhZjYlTp3z/Gz3CH+fOjRdSMGdXdpq+6agzvmgdKECIixcAs7vzu2DHutaiyzTYx5YE66xMRkZzymiDMbICZTTGzqWZ2Zg3r/MLM3jKzSWZ2Rz7jERGRustbEZOZtQSuA/YAKoHXzGyUu7+VsU5f4CxgB3f/0szWyFc8IiJSP/m8gugPTHX3ae7+HXAncEDWOscB17n7lwDuPjOP8YiISD3kM0F0Bz7KeF6ZzMu0IbChmb1sZq+Y2YBcGzKz482swswqZs2aladwRUQkUz4TRK5ORrI7fmoF9AV2Bg4DhpvZcvebu/uN7l7u7uXdunVr9EBFRGR5+UwQlcC6Gc97ADNyrPOQuy9y9/eBKUTCEBGRlOUzQbwG9DWz9c1sFeBQYFTWOg8CuwCYWVeiyGlaHmMSEZE6ylsrJndfbGa/Bp4AWgI3u/skM7sAqHD3UcmyPc3sLWAJcLq7f1HbdseOHbvAzKbkK+5G1BX4PO0g6kBxNq5iiLMYYgTF2dg2qu8Lim48CDOrqG+f5mlQnI1LcTaeYogRFGdja0icupNaRERyUoIQEZGcijFB3Jh2AHWkOBuX4mw8xRAjKM7GVu84i64OQkREmkYxXkGIiEgTUIIQEZGciipB1KX78EJgZh+Y2QQzG2dmFWnHU8XMbjazmWY2MWPe6mb2XzN7N/m7WgHG+Gcz+zjZn+PMbJ80Y0xiWtfMnjWzyUlX9acm8wttf9YUZ0HtUzNrY2avmtn4JM7zk/nrm9mYZH/eldx0W4hxjjCz9zP251ZpxpnE1NLM3jCzR5Ln9d+X7l4UE3Gz3XtAb2AVYDywadpx1RDrB0DXtOPIEddPgK2BiRnzLgfOTB6fCVxWgDH+GTgt7f2XFefawNbJ4w7AO8CmBbg/a4qzoPYp0Xdb++RxGTAG2A64Gzg0mf9P4MQCjXMEMDDt/ZgV6++BO4BHkuf13pfFdAVRl+7DpRbu/gIwO2v2AcCtyeNbgQObNKgsNcRYcNz9E3d/PXk8H5hM9FZcaPuzpjgLiocFydOyZHJgV+DeZH4h7M+a4iwoZtYD2BcYnjw3GrAviylB1KX78ELhwJNmNtbMjk87mBVY090/gTiYAIU6aNOvzezNpAgq1WKbbGbWC/gBcTZZsPszK04osH2aFImMA2YC/yVKDOa4++JklYL4zWfH6e5V+/PiZH/+3cxapxgiwFXAH4GlyfMuNGBfFlOCqEv34YViB3ffGtgbONnMfpJ2QEXuH8AGwFbAJ8CV6YZTzczaA/cBv3X3eWnHU5MccRbcPnX3Je6+FdHzc39gk1yrNW1UOQLIitPM+hEjY24MbAOsDpyRVnxm9lNgpruPzZydY9UV7stiShB16T68ILj7jOTvTOAB4steqD4zs7UBkr8FN6qfu3+W/CiXAjdRIPvTzMqIg+6/3f3+ZHbB7c9ccRbqPgVw9znAc0TZfmczq+pUtKB+8xlxDkiK8tzdvwVuId39uQOwv5l9QBTF70pcUdR7XxZTgqhL9+GpM7NVzaxD1WNgT2Bi7a9K1SjgqOTxUcBDKcaSU9UBN3EQBbA/kzLdfwGT3f1vGYsKan/WFGeh7VMz62bJYGFm1hbYnagveRYYmKxWCPszV5xvZ5wUGFG2n9r+dPez3L2Hu/cijpPPuPsRNGRfpl3TXs9a+X2IVhjvAeekHU8NMfYmWliNByYVUpzASKI4YRFxRXYsUTb5NPBu8nf1Aozx/4AJwJvEAXjtAtiXOxKX6G8C45JpnwLcnzXFWVD7FNgCeCOJZyIwNJnfG3gVmArcA7Qu0DifSfbnROB2kpZOaU/EaJ1VrZjqvS/V1YaIiORUTEVMIiLShJQgREQkJyUIERHJSQlCRERyUoIQEZGclCBEspjZkoxeOcdZI/YcbGa9MnuqFSlkrVa8ikiz87VHVwoizZquIETqyGKcj8uS8QBeNbM+yfz1zOzppKO2p82sZzJ/TTN7IBk7YLyZ/SjZVEszuykZT+DJ5I5ckYKjBCGyvLZZRUyHZCyb5+79gWuJ/m1IHt/m7lsA/waGJfOHAc+7+5bEGBeTkvl9gevcfTNgDnBwnj+PSIPoTmqRLGa2wN3b55j/AbCru09LOsD71N27mNnnRFcVi5L5n7h7VzObBfTw6MCtahu9iC6i+ybPzwDK3P2i/H8ykfrRFYRI/XgNj2taJ5dvMx4vQXWBUqCUIETq55CMv6OTx/8jes0EOAJ4KXn8NHAifD/ITMemClKkMejMRWR5bZMRw6o87u5VTV1bm9kY4uTqsGTeKcDNZnY6MAs4Opl/KnCjmR1LXCmcSPRUK1IUVAchUkdJHUS5u3+ediwiTUFFTCIikpOuIEREJCddQYiISE5KECIikpMShIiI5KQEISIiOSlBiIhITv8PsRzRjSt5qpgAAAAASUVORK5CYII=\n",
      "text/plain": [
       "<Figure size 432x288 with 1 Axes>"
      ]
     },
     "metadata": {},
     "output_type": "display_data"
    }
   ],
   "source": [
    "plt.plot(Loss, 'r--')\n",
    "plt.title(\"(CIFAR-10) Loss vs Epoch (Learning rate = 0.001)\")\n",
    "plt.xlim([0, num_epochs])\n",
    "plt.xlabel(\"Epoch\")\n",
    "plt.ylabel(\"Loss\")\n",
    "plt.show()"
   ]
  },
  {
   "cell_type": "code",
   "execution_count": null,
   "metadata": {},
   "outputs": [],
   "source": []
  }
 ],
 "metadata": {
  "kernelspec": {
   "display_name": "Python 3",
   "language": "python",
   "name": "python3"
  },
  "language_info": {
   "codemirror_mode": {
    "name": "ipython",
    "version": 3
   },
   "file_extension": ".py",
   "mimetype": "text/x-python",
   "name": "python",
   "nbconvert_exporter": "python",
   "pygments_lexer": "ipython3",
   "version": "3.6.5"
  }
 },
 "nbformat": 4,
 "nbformat_minor": 2
}
